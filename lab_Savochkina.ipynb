{
 "cells": [
  {
   "cell_type": "markdown",
   "metadata": {},
   "source": [
    "Ваш вариант определяется как (d - 1) % n + 1, где d - день вашего рождения (без месяца и года), а n - количество вариантов ( n == 14)"
   ]
  },
  {
   "cell_type": "code",
   "execution_count": 1,
   "metadata": {},
   "outputs": [
    {
     "data": {
      "text/plain": [
       "3"
      ]
     },
     "execution_count": 1,
     "metadata": {},
     "output_type": "execute_result"
    }
   ],
   "source": [
    "(3 - 1) % 14 + 1"
   ]
  },
  {
   "cell_type": "markdown",
   "metadata": {},
   "source": [
    "Престижная сеть ресторанов быстрого питания решила существенно сократить расходы, заменив часть персонала роботами. Для автоматизации процессов на кухне были закуплены программируемые роботы-повара. Для работы повара нужно представить процесс приготовления каждого блюда как очередь из ингредиентов и действий над ними. Разработайте программу для хранения и редактирования таких процессов.\n",
    "Ингредиент: название, единица измерения и количество (в этих единицах), операция над ингредиентом: действие (нарезать, упаковать, обжарить, положить и т.п.), длительность действия.\n",
    "Представить рецепт в виде дерева, в котором хранятся ингредиенты и операции над ними.\n",
    "Рецепт (очередь ингредиентов и действий над ними), метод проверки рецепта на ошибки (за ингредиентом должно следовать хотя бы одно действие, рецепт не может начинаться с действия).\n"
   ]
  },
  {
   "cell_type": "code",
   "execution_count": 2,
   "metadata": {},
   "outputs": [],
   "source": [
    "class Ingredient:\n",
    "    def __init__(self, name, unit, quantity):\n",
    "        self.name = name\n",
    "        self.unit = unit\n",
    "        self.quantity = quantity"
   ]
  },
  {
   "cell_type": "code",
   "execution_count": 3,
   "metadata": {},
   "outputs": [],
   "source": [
    "class Action:\n",
    "    def __init__(self, verb, duration):\n",
    "        self.verb = verb\n",
    "        self.duration = duration"
   ]
  },
  {
   "cell_type": "code",
   "execution_count": 4,
   "metadata": {},
   "outputs": [],
   "source": [
    "class RecipeNode:\n",
    "    def __init__(self, ingredient=None, action=None):\n",
    "        self.ingredient = ingredient\n",
    "        self.action = action\n",
    "        self.children = []\n",
    "\n",
    "    def add_child(self, node):\n",
    "        self.children.append(node)"
   ]
  },
  {
   "cell_type": "code",
   "execution_count": 5,
   "metadata": {},
   "outputs": [],
   "source": [
    "class RecipeTree:\n",
    "    def __init__(self):\n",
    "        self.root = RecipeNode()\n",
    "        self.errors = []\n",
    "        \n",
    "    def add_node(self, parent_node, ingredient=None, action=None):\n",
    "        if ingredient is None and action is None:\n",
    "            self.errors.append(\"Error: Empty node found!\")\n",
    "            self.print_errors()\n",
    "            return None\n",
    "        \n",
    "        new_node = RecipeNode(ingredient, action)\n",
    "        parent_node.add_child(new_node)\n",
    "\n",
    "        # Проверяем, что рецепт не начинается с действия\n",
    "        if parent_node == self.root and action is not None:\n",
    "            self.errors.append(\"Error: Recipe cannot start with an action!\")\n",
    "            self.print_errors()\n",
    "\n",
    "        # Проверяем, что следующий узел не является ингредиентом\n",
    "        if new_node.ingredient and len(parent_node.children) > 1 and not parent_node.children[-1].ingredient:\n",
    "            self.errors.append(f\"Error: Ingredient '{new_node.ingredient.name}' cannot be followed by another ingredient!\")\n",
    "            self.print_errors()\n",
    "        \n",
    "        return new_node\n",
    "    \n",
    "    def print_errors(self):\n",
    "        for error in self.errors:\n",
    "            print(error)      "
   ]
  },
  {
   "cell_type": "code",
   "execution_count": 6,
   "metadata": {},
   "outputs": [],
   "source": [
    "recipe_tree = RecipeTree()\n",
    "\n",
    "# Создаем ингредиенты и действия\n",
    "potato = Ingredient(\"Potato\", \"kg\", 1)\n",
    "onion = Ingredient(\"Onion\", \"pcs\", 2)\n",
    "\n",
    "# Создаем действия\n",
    "cut_potato = Action(\"cut\", 5)\n",
    "chop_onion = Action(\"chop\", 3)\n",
    "\n",
    "# Добавляем ингредиенты и действия к дереву рецепта\n",
    "new_recipe = recipe_tree.add_node(recipe_tree.root, ingredient=potato)\n",
    "cut_potato_node = recipe_tree.add_node(new_recipe, action=cut_potato)\n",
    "cut_potato_node = recipe_tree.add_node(new_recipe, action=cut_potato)\n",
    "cut_potato_node = recipe_tree.add_node(new_recipe, action=cut_potato)\n",
    "onion_node = recipe_tree.add_node(new_recipe, ingredient=onion)\n",
    "chop_onion_node = recipe_tree.add_node(new_recipe, action=chop_onion)"
   ]
  },
  {
   "cell_type": "code",
   "execution_count": 7,
   "metadata": {},
   "outputs": [
    {
     "name": "stdout",
     "output_type": "stream",
     "text": [
      "Error: Recipe cannot start with an action!\n"
     ]
    }
   ],
   "source": [
    "# Пытаемся создать рецепт, который начинается с действия\n",
    "invalid_recipe_tree = RecipeTree()\n",
    "invalid_action_node = invalid_recipe_tree.add_node(invalid_recipe_tree.root, action=cut_potato)"
   ]
  }
 ],
 "metadata": {
  "kernelspec": {
   "display_name": "Python 3",
   "language": "python",
   "name": "python3"
  },
  "language_info": {
   "codemirror_mode": {
    "name": "ipython",
    "version": 3
   },
   "file_extension": ".py",
   "mimetype": "text/x-python",
   "name": "python",
   "nbconvert_exporter": "python",
   "pygments_lexer": "ipython3",
   "version": "3.11.2"
  }
 },
 "nbformat": 4,
 "nbformat_minor": 2
}
